{
 "cells": [
  {
   "cell_type": "code",
   "execution_count": 1,
   "metadata": {},
   "outputs": [],
   "source": [
    "import numpy as np \n",
    "import pandas as pd\n",
    "from matplotlib import pyplot as plt\n",
    "import jinja2"
   ]
  },
  {
   "cell_type": "code",
   "execution_count": 9,
   "metadata": {},
   "outputs": [],
   "source": [
    "#understand templates from jinja2\n",
    "\n",
    "tmpl1 = 'My name is {} and age {}'\n",
    "tmpl = jinja2.Template(\"My name is {{name}} and age is {{age}}\")"
   ]
  },
  {
   "cell_type": "code",
   "execution_count": 7,
   "metadata": {},
   "outputs": [
    {
     "data": {
      "text/plain": [
       "'My name is adam and age 23'"
      ]
     },
     "execution_count": 7,
     "metadata": {},
     "output_type": "execute_result"
    }
   ],
   "source": [
    "name = \"adam\"\n",
    "age = 23\n",
    "tmpl1.format(name,age)"
   ]
  },
  {
   "cell_type": "code",
   "execution_count": 11,
   "metadata": {},
   "outputs": [
    {
     "data": {
      "text/plain": [
       "'My name is adam and age is 4'"
      ]
     },
     "execution_count": 11,
     "metadata": {},
     "output_type": "execute_result"
    }
   ],
   "source": [
    "age_young = 4\n",
    "tmpl.render(name = name, age = age_young)"
   ]
  },
  {
   "cell_type": "code",
   "execution_count": 13,
   "metadata": {},
   "outputs": [
    {
     "data": {
      "text/plain": [
       "'My name is Weronika and age is 241,4'"
      ]
     },
     "execution_count": 13,
     "metadata": {},
     "output_type": "execute_result"
    }
   ],
   "source": [
    "tmpl.render(name = \"Weronika\", age = \"241,4\")"
   ]
  },
  {
   "cell_type": "code",
   "execution_count": 14,
   "metadata": {},
   "outputs": [
    {
     "data": {
      "text/plain": [
       "<Template memory:7f72cce9a690>"
      ]
     },
     "execution_count": 14,
     "metadata": {},
     "output_type": "execute_result"
    }
   ],
   "source": [
    "tmpl = jinja2.Template(\"My dog is {{dt.name}}, and it's age is {{dt.age}}\")\n",
    "\n",
    "tmpl "
   ]
  },
  {
   "cell_type": "code",
   "execution_count": 15,
   "metadata": {},
   "outputs": [],
   "source": [
    "sl = {\"name\" : \"Diego\", \"age\":5 }"
   ]
  },
  {
   "cell_type": "code",
   "execution_count": 16,
   "metadata": {},
   "outputs": [
    {
     "data": {
      "text/plain": [
       "\"My dog is Diego, and it's age is 5\""
      ]
     },
     "execution_count": 16,
     "metadata": {},
     "output_type": "execute_result"
    }
   ],
   "source": [
    "tmpl.render(dt=sl)"
   ]
  },
  {
   "cell_type": "markdown",
   "metadata": {},
   "source": [
    "# HTML"
   ]
  },
  {
   "cell_type": "code",
   "execution_count": 17,
   "metadata": {},
   "outputs": [
    {
     "data": {
      "text/html": [
       "<!DOCTYPE html>\n",
       "    <html>\n",
       "        <head>\n",
       "            <title>Page Title</title>\n",
       "        </head>\n",
       "        <body>\n",
       "\n",
       "            <h1>This is a Heading</h1>\n",
       "            <p>This is a paragraph.</p>\n",
       "\n",
       "        </body>\n",
       "</html> "
      ],
      "text/plain": [
       "<IPython.core.display.HTML object>"
      ]
     },
     "metadata": {},
     "output_type": "display_data"
    }
   ],
   "source": [
    "%%HTML\n",
    "<!DOCTYPE html>\n",
    "    <html>\n",
    "        <head>\n",
    "            <title>Page Title</title>\n",
    "        </head>\n",
    "        <body>\n",
    "\n",
    "            <h1>This is a Heading</h1>\n",
    "            <p>This is a paragraph.</p>\n",
    "\n",
    "        </body>\n",
    "</html> "
   ]
  },
  {
   "cell_type": "code",
   "execution_count": 77,
   "metadata": {},
   "outputs": [
    {
     "data": {
      "text/plain": [
       "<Template memory:7f72cc1c98d0>"
      ]
     },
     "execution_count": 77,
     "metadata": {},
     "output_type": "execute_result"
    }
   ],
   "source": [
    "tmpl = jinja2.Template(\"\"\"<!DOCTYPE html>\n",
    "    <html>\n",
    "        <head>\n",
    "            <title>Page Title</title>\n",
    "        </head>\n",
    "        <body>\n",
    "\n",
    "            <h1>This is a Heading</h1>\n",
    "            \n",
    "            <p>{{dt.name}}</p>\n",
    "            <p>{{dt.age}}</p>\n",
    "                <ul>\n",
    "                {% for it in dataList %}\n",
    "                    <li>{{it.tbl}}</li>\n",
    "                    <img src={{it.im}} alt=\"image\">\n",
    "                    {%endfor%}\n",
    "                </ul>\n",
    "\n",
    "        </body>\n",
    "</html>  \"\"\")\n",
    "tmpl"
   ]
  },
  {
   "cell_type": "code",
   "execution_count": 24,
   "metadata": {},
   "outputs": [],
   "source": [
    "from IPython.core.display import display, HTML"
   ]
  },
  {
   "cell_type": "code",
   "execution_count": 39,
   "metadata": {},
   "outputs": [
    {
     "data": {
      "text/html": [
       "<!DOCTYPE html>\n",
       "    <html>\n",
       "        <head>\n",
       "            <title>Page Title</title>\n",
       "        </head>\n",
       "        <body>\n",
       "\n",
       "            <h1>This is a Heading</h1>\n",
       "            <p>Diego</p>\n",
       "            <p>5</p>\n",
       "            \n",
       "\n",
       "        </body>\n",
       "</html>  "
      ],
      "text/plain": [
       "<IPython.core.display.HTML object>"
      ]
     },
     "metadata": {},
     "output_type": "display_data"
    }
   ],
   "source": [
    "display(HTML(tmpl.render(dt=sl)))"
   ]
  },
  {
   "cell_type": "code",
   "execution_count": 50,
   "metadata": {},
   "outputs": [
    {
     "data": {
      "text/html": [
       "<!DOCTYPE html>\n",
       "    <html>\n",
       "        <head>\n",
       "            <title>Page Title</title>\n",
       "        </head>\n",
       "        <body>\n",
       "\n",
       "            <h1>This is a Heading</h1>\n",
       "            <p>Diego</p>\n",
       "            <p>5</p>\n",
       "                <ul>\n",
       "                \n",
       "                    <li>0</li>\n",
       "                    \n",
       "                    <li>1</li>\n",
       "                    \n",
       "                    <li>2</li>\n",
       "                    \n",
       "                    <li>3</li>\n",
       "                    \n",
       "                    <li>4</li>\n",
       "                    \n",
       "                    <li>5</li>\n",
       "                    \n",
       "                    <li>6</li>\n",
       "                    \n",
       "                    <li>7</li>\n",
       "                    \n",
       "                    <li>8</li>\n",
       "                    \n",
       "                </ul>\n",
       "\n",
       "        </body>\n",
       "</html>  "
      ],
      "text/plain": [
       "<IPython.core.display.HTML object>"
      ]
     },
     "metadata": {},
     "output_type": "display_data"
    }
   ],
   "source": [
    "ll = range(9)\n",
    "display(HTML(tmpl.render(dt=sl, myList=ll)))"
   ]
  },
  {
   "cell_type": "code",
   "execution_count": 70,
   "metadata": {},
   "outputs": [
    {
     "name": "stdout",
     "output_type": "stream",
     "text": [
      "countryPopulation.csv  WHO-COVID-19-global-data.csv\n",
      "tmp.py                 WPP2019_POP_F01_1_TOTAL_POPULATION_BOTH_SEXES.xlsx\n",
      "/home/adam/projects/github/engineer/data\n",
      "countryPopulation.csv  WHO-COVID-19-global-data.csv\n",
      "tmp.py                 WPP2019_POP_F01_1_TOTAL_POPULATION_BOTH_SEXES.xlsx\n"
     ]
    },
    {
     "data": {
      "text/plain": [
       "'/home/adam/projects/github/engineer/data'"
      ]
     },
     "execution_count": 70,
     "metadata": {},
     "output_type": "execute_result"
    }
   ],
   "source": [
    "%ls\n",
    "%cd /home/adam/projects/github/engineer/data\n",
    "\n",
    "%mkdir /home/adam/projects/github/engineer/img\n",
    "%ls\n",
    "%pwd"
   ]
  },
  {
   "cell_type": "code",
   "execution_count": 56,
   "metadata": {},
   "outputs": [],
   "source": [
    "df = pd.read_csv('/home/adam/projects/github/engineer/data/countryPopulation.csv',sep=';')"
   ]
  },
  {
   "cell_type": "code",
   "execution_count": 57,
   "metadata": {},
   "outputs": [
    {
     "data": {
      "text/html": [
       "<div>\n",
       "<style scoped>\n",
       "    .dataframe tbody tr th:only-of-type {\n",
       "        vertical-align: middle;\n",
       "    }\n",
       "\n",
       "    .dataframe tbody tr th {\n",
       "        vertical-align: top;\n",
       "    }\n",
       "\n",
       "    .dataframe thead th {\n",
       "        text-align: right;\n",
       "    }\n",
       "</style>\n",
       "<table border=\"1\" class=\"dataframe\">\n",
       "  <thead>\n",
       "    <tr style=\"text-align: right;\">\n",
       "      <th></th>\n",
       "      <th>Country</th>\n",
       "      <th>geo</th>\n",
       "      <th>region</th>\n",
       "      <th>island</th>\n",
       "      <th>c2020</th>\n",
       "    </tr>\n",
       "  </thead>\n",
       "  <tbody>\n",
       "    <tr>\n",
       "      <th>0</th>\n",
       "      <td>Burundi</td>\n",
       "      <td>africa</td>\n",
       "      <td>east</td>\n",
       "      <td>no</td>\n",
       "      <td>11890781</td>\n",
       "    </tr>\n",
       "    <tr>\n",
       "      <th>1</th>\n",
       "      <td>Comoros</td>\n",
       "      <td>africa</td>\n",
       "      <td>east</td>\n",
       "      <td>no</td>\n",
       "      <td>869595</td>\n",
       "    </tr>\n",
       "    <tr>\n",
       "      <th>2</th>\n",
       "      <td>Djibouti</td>\n",
       "      <td>africa</td>\n",
       "      <td>east</td>\n",
       "      <td>no</td>\n",
       "      <td>988002</td>\n",
       "    </tr>\n",
       "    <tr>\n",
       "      <th>3</th>\n",
       "      <td>Eritrea</td>\n",
       "      <td>africa</td>\n",
       "      <td>east</td>\n",
       "      <td>no</td>\n",
       "      <td>3546427</td>\n",
       "    </tr>\n",
       "    <tr>\n",
       "      <th>4</th>\n",
       "      <td>Ethiopia</td>\n",
       "      <td>africa</td>\n",
       "      <td>east</td>\n",
       "      <td>no</td>\n",
       "      <td>114963583</td>\n",
       "    </tr>\n",
       "  </tbody>\n",
       "</table>\n",
       "</div>"
      ],
      "text/plain": [
       "    Country     geo region island      c2020\n",
       "0   Burundi  africa   east     no   11890781\n",
       "1   Comoros  africa   east     no     869595\n",
       "2  Djibouti  africa   east     no     988002\n",
       "3   Eritrea  africa   east     no    3546427\n",
       "4  Ethiopia  africa   east     no  114963583"
      ]
     },
     "execution_count": 57,
     "metadata": {},
     "output_type": "execute_result"
    }
   ],
   "source": [
    "df.head()"
   ]
  },
  {
   "cell_type": "code",
   "execution_count": 74,
   "metadata": {},
   "outputs": [
    {
     "data": {
      "image/png": "[encoded data removed]",
      "text/plain": [
       "<Figure size 432x288 with 1 Axes>"
      ]
     },
     "metadata": {
      "needs_background": "light"
     },
     "output_type": "display_data"
    }
   ],
   "source": [
    "step = 5\n",
    "\n",
    "ll = []\n",
    "add = '../img/im0{}.png'\n",
    "sl = {}\n",
    "\n",
    "for i in range(4):\n",
    "    tmp = df.iloc[i:i+step,:]\n",
    "    plt.bar(tmp.Country,tmp.c2020)\n",
    "    plt.savefig(add.format(i+1))\n",
    "    tmp.to_html()\n",
    "        \n",
    "    sl['tbl'] = tmp\n",
    "    sl['im'] = add.format(i+1)\n",
    "    ll.append(sl)\n"
   ]
  },
  {
   "cell_type": "code",
   "execution_count": 66,
   "metadata": {},
   "outputs": [
    {
     "data": {
      "text/html": [
       "<!DOCTYPE html>\n",
       "    <html>\n",
       "        <head>\n",
       "            <title>Page Title</title>\n",
       "        </head>\n",
       "        <body>\n",
       "\n",
       "            <h1>This is a Heading</h1>\n",
       "            <p>Diego</p>\n",
       "            <p>5</p>\n",
       "                <ul>\n",
       "                \n",
       "                    <li><table border=\"1\" class=\"dataframe\">\n",
       "  <thead>\n",
       "    <tr style=\"text-align: right;\">\n",
       "      <th></th>\n",
       "      <th>Country</th>\n",
       "      <th>geo</th>\n",
       "      <th>region</th>\n",
       "      <th>island</th>\n",
       "      <th>c2020</th>\n",
       "    </tr>\n",
       "  </thead>\n",
       "  <tbody>\n",
       "    <tr>\n",
       "      <th>0</th>\n",
       "      <td>Burundi</td>\n",
       "      <td>africa</td>\n",
       "      <td>east</td>\n",
       "      <td>no</td>\n",
       "      <td>11890781</td>\n",
       "    </tr>\n",
       "    <tr>\n",
       "      <th>1</th>\n",
       "      <td>Comoros</td>\n",
       "      <td>africa</td>\n",
       "      <td>east</td>\n",
       "      <td>no</td>\n",
       "      <td>869595</td>\n",
       "    </tr>\n",
       "    <tr>\n",
       "      <th>2</th>\n",
       "      <td>Djibouti</td>\n",
       "      <td>africa</td>\n",
       "      <td>east</td>\n",
       "      <td>no</td>\n",
       "      <td>988002</td>\n",
       "    </tr>\n",
       "    <tr>\n",
       "      <th>3</th>\n",
       "      <td>Eritrea</td>\n",
       "      <td>africa</td>\n",
       "      <td>east</td>\n",
       "      <td>no</td>\n",
       "      <td>3546427</td>\n",
       "    </tr>\n",
       "    <tr>\n",
       "      <th>4</th>\n",
       "      <td>Ethiopia</td>\n",
       "      <td>africa</td>\n",
       "      <td>east</td>\n",
       "      <td>no</td>\n",
       "      <td>114963583</td>\n",
       "    </tr>\n",
       "  </tbody>\n",
       "</table></li>\n",
       "                    \n",
       "                    <li><table border=\"1\" class=\"dataframe\">\n",
       "  <thead>\n",
       "    <tr style=\"text-align: right;\">\n",
       "      <th></th>\n",
       "      <th>Country</th>\n",
       "      <th>geo</th>\n",
       "      <th>region</th>\n",
       "      <th>island</th>\n",
       "      <th>c2020</th>\n",
       "    </tr>\n",
       "  </thead>\n",
       "  <tbody>\n",
       "    <tr>\n",
       "      <th>1</th>\n",
       "      <td>Comoros</td>\n",
       "      <td>africa</td>\n",
       "      <td>east</td>\n",
       "      <td>no</td>\n",
       "      <td>869595</td>\n",
       "    </tr>\n",
       "    <tr>\n",
       "      <th>2</th>\n",
       "      <td>Djibouti</td>\n",
       "      <td>africa</td>\n",
       "      <td>east</td>\n",
       "      <td>no</td>\n",
       "      <td>988002</td>\n",
       "    </tr>\n",
       "    <tr>\n",
       "      <th>3</th>\n",
       "      <td>Eritrea</td>\n",
       "      <td>africa</td>\n",
       "      <td>east</td>\n",
       "      <td>no</td>\n",
       "      <td>3546427</td>\n",
       "    </tr>\n",
       "    <tr>\n",
       "      <th>4</th>\n",
       "      <td>Ethiopia</td>\n",
       "      <td>africa</td>\n",
       "      <td>east</td>\n",
       "      <td>no</td>\n",
       "      <td>114963583</td>\n",
       "    </tr>\n",
       "    <tr>\n",
       "      <th>5</th>\n",
       "      <td>Kenya</td>\n",
       "      <td>africa</td>\n",
       "      <td>east</td>\n",
       "      <td>no</td>\n",
       "      <td>53771300</td>\n",
       "    </tr>\n",
       "  </tbody>\n",
       "</table></li>\n",
       "                    \n",
       "                    <li><table border=\"1\" class=\"dataframe\">\n",
       "  <thead>\n",
       "    <tr style=\"text-align: right;\">\n",
       "      <th></th>\n",
       "      <th>Country</th>\n",
       "      <th>geo</th>\n",
       "      <th>region</th>\n",
       "      <th>island</th>\n",
       "      <th>c2020</th>\n",
       "    </tr>\n",
       "  </thead>\n",
       "  <tbody>\n",
       "    <tr>\n",
       "      <th>2</th>\n",
       "      <td>Djibouti</td>\n",
       "      <td>africa</td>\n",
       "      <td>east</td>\n",
       "      <td>no</td>\n",
       "      <td>988002</td>\n",
       "    </tr>\n",
       "    <tr>\n",
       "      <th>3</th>\n",
       "      <td>Eritrea</td>\n",
       "      <td>africa</td>\n",
       "      <td>east</td>\n",
       "      <td>no</td>\n",
       "      <td>3546427</td>\n",
       "    </tr>\n",
       "    <tr>\n",
       "      <th>4</th>\n",
       "      <td>Ethiopia</td>\n",
       "      <td>africa</td>\n",
       "      <td>east</td>\n",
       "      <td>no</td>\n",
       "      <td>114963583</td>\n",
       "    </tr>\n",
       "    <tr>\n",
       "      <th>5</th>\n",
       "      <td>Kenya</td>\n",
       "      <td>africa</td>\n",
       "      <td>east</td>\n",
       "      <td>no</td>\n",
       "      <td>53771300</td>\n",
       "    </tr>\n",
       "    <tr>\n",
       "      <th>6</th>\n",
       "      <td>Madagascar</td>\n",
       "      <td>africa</td>\n",
       "      <td>east</td>\n",
       "      <td>no</td>\n",
       "      <td>27691019</td>\n",
       "    </tr>\n",
       "  </tbody>\n",
       "</table></li>\n",
       "                    \n",
       "                    <li><table border=\"1\" class=\"dataframe\">\n",
       "  <thead>\n",
       "    <tr style=\"text-align: right;\">\n",
       "      <th></th>\n",
       "      <th>Country</th>\n",
       "      <th>geo</th>\n",
       "      <th>region</th>\n",
       "      <th>island</th>\n",
       "      <th>c2020</th>\n",
       "    </tr>\n",
       "  </thead>\n",
       "  <tbody>\n",
       "    <tr>\n",
       "      <th>3</th>\n",
       "      <td>Eritrea</td>\n",
       "      <td>africa</td>\n",
       "      <td>east</td>\n",
       "      <td>no</td>\n",
       "      <td>3546427</td>\n",
       "    </tr>\n",
       "    <tr>\n",
       "      <th>4</th>\n",
       "      <td>Ethiopia</td>\n",
       "      <td>africa</td>\n",
       "      <td>east</td>\n",
       "      <td>no</td>\n",
       "      <td>114963583</td>\n",
       "    </tr>\n",
       "    <tr>\n",
       "      <th>5</th>\n",
       "      <td>Kenya</td>\n",
       "      <td>africa</td>\n",
       "      <td>east</td>\n",
       "      <td>no</td>\n",
       "      <td>53771300</td>\n",
       "    </tr>\n",
       "    <tr>\n",
       "      <th>6</th>\n",
       "      <td>Madagascar</td>\n",
       "      <td>africa</td>\n",
       "      <td>east</td>\n",
       "      <td>no</td>\n",
       "      <td>27691019</td>\n",
       "    </tr>\n",
       "    <tr>\n",
       "      <th>7</th>\n",
       "      <td>Malawi</td>\n",
       "      <td>africa</td>\n",
       "      <td>east</td>\n",
       "      <td>no</td>\n",
       "      <td>19129955</td>\n",
       "    </tr>\n",
       "  </tbody>\n",
       "</table></li>\n",
       "                    \n",
       "                </ul>\n",
       "\n",
       "        </body>\n",
       "</html>  "
      ],
      "text/plain": [
       "<IPython.core.display.HTML object>"
      ]
     },
     "metadata": {},
     "output_type": "display_data"
    }
   ],
   "source": [
    "display(HTML(tmpl.render(dt=sl,myList=ll)))"
   ]
  },
  {
   "cell_type": "code",
   "execution_count": 78,
   "metadata": {},
   "outputs": [
    {
     "data": {
      "text/html": [
       "<!DOCTYPE html>\n",
       "    <html>\n",
       "        <head>\n",
       "            <title>Page Title</title>\n",
       "        </head>\n",
       "        <body>\n",
       "\n",
       "            <h1>This is a Heading</h1>\n",
       "            \n",
       "            <p></p>\n",
       "            <p></p>\n",
       "                <ul>\n",
       "                \n",
       "                    <li>      Country     geo region island      c2020\n",
       "3     Eritrea  africa   east     no    3546427\n",
       "4    Ethiopia  africa   east     no  114963583\n",
       "5       Kenya  africa   east     no   53771300\n",
       "6  Madagascar  africa   east     no   27691019\n",
       "7      Malawi  africa   east     no   19129955</li>\n",
       "                    <img src=../img/im04.png alt=\"image\">\n",
       "                    \n",
       "                    <li>      Country     geo region island      c2020\n",
       "3     Eritrea  africa   east     no    3546427\n",
       "4    Ethiopia  africa   east     no  114963583\n",
       "5       Kenya  africa   east     no   53771300\n",
       "6  Madagascar  africa   east     no   27691019\n",
       "7      Malawi  africa   east     no   19129955</li>\n",
       "                    <img src=../img/im04.png alt=\"image\">\n",
       "                    \n",
       "                    <li>      Country     geo region island      c2020\n",
       "3     Eritrea  africa   east     no    3546427\n",
       "4    Ethiopia  africa   east     no  114963583\n",
       "5       Kenya  africa   east     no   53771300\n",
       "6  Madagascar  africa   east     no   27691019\n",
       "7      Malawi  africa   east     no   19129955</li>\n",
       "                    <img src=../img/im04.png alt=\"image\">\n",
       "                    \n",
       "                    <li>      Country     geo region island      c2020\n",
       "3     Eritrea  africa   east     no    3546427\n",
       "4    Ethiopia  africa   east     no  114963583\n",
       "5       Kenya  africa   east     no   53771300\n",
       "6  Madagascar  africa   east     no   27691019\n",
       "7      Malawi  africa   east     no   19129955</li>\n",
       "                    <img src=../img/im04.png alt=\"image\">\n",
       "                    \n",
       "                </ul>\n",
       "\n",
       "        </body>\n",
       "</html>  "
      ],
      "text/plain": [
       "<IPython.core.display.HTML object>"
      ]
     },
     "metadata": {},
     "output_type": "display_data"
    }
   ],
   "source": [
    "display(HTML(tmpl.render(dt=sl,dataList=ll)))"
   ]
  },
  {
   "cell_type": "code",
   "execution_count": null,
   "metadata": {},
   "outputs": [],
   "source": []
  },
  {
   "cell_type": "code",
   "execution_count": null,
   "metadata": {},
   "outputs": [],
   "source": []
  },
  {
   "cell_type": "code",
   "execution_count": null,
   "metadata": {},
   "outputs": [],
   "source": []
  }
 ],
 "metadata": {
  "kernelspec": {
   "display_name": "Python 3",
   "language": "python",
   "name": "python3"
  },
  "language_info": {
   "codemirror_mode": {
    "name": "ipython",
    "version": 3
   },
   "file_extension": ".py",
   "mimetype": "text/x-python",
   "name": "python",
   "nbconvert_exporter": "python",
   "pygments_lexer": "ipython3",
   "version": "3.7.8"
  }
 },
 "nbformat": 4,
 "nbformat_minor": 4
}
